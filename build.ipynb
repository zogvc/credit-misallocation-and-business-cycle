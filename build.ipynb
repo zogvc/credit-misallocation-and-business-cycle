{
 "cells": [
  {
   "cell_type": "code",
   "execution_count": 186,
   "id": "342e44d9-def4-42ba-ae56-dc481d478254",
   "metadata": {},
   "outputs": [],
   "source": [
    "import numpy as np\n",
    "import pandas as pd"
   ]
  },
  {
   "cell_type": "markdown",
   "id": "0f0dc8cc-cc57-45e8-93e0-6a76bd5905bd",
   "metadata": {},
   "source": [
    "### **Aggregate Firm Credit Data**"
   ]
  },
  {
   "cell_type": "code",
   "execution_count": 187,
   "id": "db113802-bfcc-40d7-bae5-70516412f61f",
   "metadata": {},
   "outputs": [],
   "source": [
    "# Preprocess aggregate firm credit data (SNA 2008 Standard).\n",
    "\n",
    "# Load the firm credit data\n",
    "fc2008 = pd.read_csv('./data/raw/macro_firm_credit_2008_2023.csv', thousands=',')\n",
    "fc2008.drop(['통계표', '자산/부채', '단위', '변환'], axis=1, inplace=True) # Drop redundant columns; Unit: 1billion won.\n",
    "\n",
    "# Rename categories in 'Account' column.\n",
    "fc2008.loc[fc2008['계정항목']=='  4. 채권', '계정항목'] = 'bonds'\n",
    "fc2008.loc[fc2008['계정항목']=='  5. 대출금', '계정항목'] = 'loans'\n",
    "fc2008.loc[fc2008['계정항목']=='  6. 정부융자', '계정항목'] = 'govloans'\n",
    "\n",
    "# Rename categories in 'Sector' column.\n",
    "fc2008.loc[fc2008['제도부문코드']=='    비금융법인', '제도부문코드'] = 'nonfin'\n",
    "fc2008.loc[fc2008['제도부문코드']=='      공기업', '제도부문코드'] = 'public'\n",
    "fc2008.loc[fc2008['제도부문코드']=='      민간기업', '제도부문코드'] = 'private'\n",
    "\n",
    "# Rename column names.\n",
    "fc2008.columns = ['sector', 'account'] + list(range(2008, 2024))\n",
    "\n",
    "# Sort values by sector.\n",
    "fc2008.sort_values(by=['sector', 'account'], inplace=True)\n",
    "fc2008.reset_index(drop=True, inplace=True)\n",
    "\n",
    "# Set multi-index.\n",
    "fc2008.set_index(['sector', 'account'], inplace=True)"
   ]
  },
  {
   "cell_type": "code",
   "execution_count": 188,
   "id": "fa8c3d2b-085b-4983-8205-adc55bf11357",
   "metadata": {},
   "outputs": [],
   "source": [
    "# Preprocess aggregate firm credit data (SNA 1993 Standard).\n",
    "\n",
    "# Load the firm credit data\n",
    "fc1993 = pd.read_csv('./data/raw/macro_firm_credit_2002_2013.csv', thousands=',')\n",
    "fc1993.drop(['통계표', '자산/부채', '단위', '변환'], axis=1, inplace=True) # Drop redundant columns; Unit: 1billion won.\n",
    "\n",
    "# Rename categories in 'Account' column.\n",
    "fc1993.loc[fc1993['계정항목']=='  4. 채권', '계정항목'] = 'bonds'\n",
    "fc1993.loc[fc1993['계정항목']=='  5. 대출금', '계정항목'] = 'loans'\n",
    "fc1993.loc[fc1993['계정항목']=='  6. 정부융자', '계정항목'] = 'govloans'\n",
    "\n",
    "# Rename categories in 'Sector' column.\n",
    "fc1993.loc[fc1993['제도부문코드']=='  비금융법인', '제도부문코드'] = 'nonfin'\n",
    "fc1993.loc[fc1993['제도부문코드']=='    공기업', '제도부문코드'] = 'public'\n",
    "fc1993.loc[fc1993['제도부문코드']=='    민간기업', '제도부문코드'] = 'private'\n",
    "\n",
    "# Rearrange and rename column names.\n",
    "col = ['제도부문코드', '계정항목', '2002', '2003', '2004', '2005', '2006', '2007', '2008', '2009', '2010', '2011', '2012', '2013']\n",
    "fc1993 = fc1993.loc[:, col]\n",
    "fc1993.columns = ['sector', 'account'] + list(range(2002, 2014))\n",
    "\n",
    "# Sort values by sector.\n",
    "fc1993.sort_values(by=['sector', 'account'], inplace=True)\n",
    "fc1993.reset_index(drop=True, inplace=True)\n",
    "\n",
    "# Set multi-index.\n",
    "fc1993.set_index(['sector', 'account'], inplace=True)"
   ]
  },
  {
   "cell_type": "code",
   "execution_count": 189,
   "id": "8c233736-29e1-4306-83bb-5764d5cd19c9",
   "metadata": {},
   "outputs": [],
   "source": [
    "# Preprocess aggregate firm credit data (SNA 1968 Standard).\n",
    "\n",
    "# Load the firm credit data\n",
    "fc19681 = pd.read_csv('./data/raw/macro_firm_credit_1975_2005.csv', thousands=',')\n",
    "fc19682 = pd.read_csv('./data/raw/macro_firm_credit_1969_1974.csv', thousands=',')\n",
    "fc19681.drop(['통계표', '자산/부채', '단위', '변환'], axis=1, inplace=True) # Drop redundant columns; Unit: 1billion won.\n",
    "fc19682.drop(['통계표', '자산/부채', '단위', '변환'], axis=1, inplace=True) # Drop redundant columns; Unit: 1billion won.\n",
    "\n",
    "# Rename categories in 'Account' column.\n",
    "fc19681.loc[fc19681['계정항목']=='  5. 단기채권', '계정항목'] = 'sbonds'\n",
    "fc19681.loc[fc19681['계정항목']=='  6. 장기채권', '계정항목'] = 'lbonds'\n",
    "fc19681.loc[fc19681['계정항목']=='  8. 대출금', '계정항목'] = 'loans'\n",
    "fc19681.loc[fc19681['계정항목']=='  9. 정부융자', '계정항목'] = 'govloans'\n",
    "\n",
    "fc19682.loc[fc19682['계정항목']=='  5. 단기채권', '계정항목'] = 'sbonds'\n",
    "fc19682.loc[fc19682['계정항목']=='  6. 장기채권', '계정항목'] = 'lbonds'\n",
    "fc19682.loc[fc19682['계정항목']=='  8. 대출금', '계정항목'] = 'loans'\n",
    "fc19682.loc[fc19682['계정항목']=='  9. 정부융자', '계정항목'] = 'govloans'\n",
    "\n",
    "# Rename categories in 'Sector' column.\n",
    "fc19681.loc[fc19681['제도부문코드']=='  기업부문', '제도부문코드'] = 'nonfin'\n",
    "fc19681.loc[fc19681['제도부문코드']=='    공기업', '제도부문코드'] = 'public'\n",
    "fc19681.loc[fc19681['제도부문코드']=='    민간기업', '제도부문코드'] = 'private'\n",
    "\n",
    "fc19682.loc[fc19682['제도부문코드']=='  기업부문', '제도부문코드'] = 'nonfin'\n",
    "fc19682.loc[fc19682['제도부문코드']=='    공기업', '제도부문코드'] = 'public'\n",
    "fc19682.loc[fc19682['제도부문코드']=='    민간기업', '제도부문코드'] = 'private'\n",
    "\n",
    "# Rearrange and rename column names.\n",
    "col1 = ['제도부문코드', '계정항목'] + [str(yr) for yr in range(1975, 2006)]\n",
    "col2 = ['제도부문코드', '계정항목'] + [str(yr) for yr in range(1969, 1975)]\n",
    "\n",
    "fc19681 = fc19681.loc[:, col1]\n",
    "fc19681.columns = ['sector', 'account'] + list(range(1975, 2006))\n",
    "\n",
    "fc19682 = fc19682.loc[:, col2]\n",
    "fc19682.columns = ['sector', 'account'] + list(range(1969, 1975))\n",
    "\n",
    "# Sort values by sector.\n",
    "fc19681.sort_values(by='sector', inplace=True)\n",
    "fc19681.reset_index(drop=True, inplace=True)\n",
    "fc19682.sort_values(by='sector', inplace=True)\n",
    "fc19682.reset_index(drop=True, inplace=True)\n",
    "\n",
    "# Set multi-index.\n",
    "fc19681.set_index(['sector', 'account'], inplace=True)\n",
    "fc19682.set_index(['sector', 'account'], inplace=True)\n",
    "\n",
    "# Compute bonds data.\n",
    "mi = pd.MultiIndex.from_arrays([['nonfin', 'private', 'public'], ['bonds', 'bonds', 'bonds']], names=['sector', 'account'])\n",
    "\n",
    "b1 = fc19681.loc[(slice(None), 'sbonds'), :].values + fc19681.loc[(slice(None), 'lbonds'), :].values\n",
    "bonds1 = pd.DataFrame(b1, index=mi, columns=fc19681.columns)\n",
    "fc19681 = pd.concat([fc19681.loc[(slice(None), ['loans', 'govloans']), :], bonds1], axis=0)\n",
    "\n",
    "b2 = fc19682.loc[(slice(None), 'sbonds'), :].values + fc19682.loc[(slice(None), 'lbonds'), :].values\n",
    "bonds2 = pd.DataFrame(b2, index=mi, columns=fc19682.columns)\n",
    "fc19682 = pd.concat([fc19682.loc[(slice(None), ['loans', 'govloans']), :], bonds2], axis=0)\n",
    "\n",
    "# Concatenate two panels.\n",
    "fc1968 = pd.concat([fc19682, fc19681], axis=1)\n",
    "fc1968.reset_index(inplace=True)\n",
    "fc1968.sort_values(by=['sector', 'account'], inplace=True)\n",
    "fc1968.set_index(['sector', 'account'], inplace=True)"
   ]
  },
  {
   "cell_type": "code",
   "execution_count": 190,
   "id": "735fbef2-6695-424d-aafc-7d7e4cce90de",
   "metadata": {},
   "outputs": [],
   "source": [
    "# Concatentate all three panels\n",
    "fc = pd.concat([fc1968.loc[:, :2001], fc1993.loc[:, :2007], fc2008], axis=1)"
   ]
  },
  {
   "cell_type": "code",
   "execution_count": 191,
   "id": "c1360ee6-2a02-42d0-9e98-81b250a4a65f",
   "metadata": {},
   "outputs": [],
   "source": [
    "fc.to_csv('./data/processed/agg_firm_credit.csv')"
   ]
  },
  {
   "cell_type": "markdown",
   "id": "d10094a0-2024-4449-b208-17b98111e384",
   "metadata": {},
   "source": [
    "### **GDP Time Series**"
   ]
  },
  {
   "cell_type": "code",
   "execution_count": 201,
   "id": "ee007f6e-eea3-46e4-a874-c1624abad22e",
   "metadata": {},
   "outputs": [],
   "source": [
    "# Preprocess GDP data.\n",
    "\n",
    "# Load the GDP data.\n",
    "gdp = pd.read_csv('./data/raw/macro_gdp.csv')\n",
    "gdp.drop(['계정항목별'], axis=1, inplace=True)\n",
    "gdp.columns = range(1969, 2024)\n",
    "gdp.index = ['gdp']\n",
    "\n",
    "# Save the processed data.\n",
    "gdp.to_csv('./data/processed/gdp.csv')"
   ]
  },
  {
   "cell_type": "markdown",
   "id": "cabaa0be-0b2b-4427-8511-c433dad4c942",
   "metadata": {},
   "source": [
    "### **Aggregate Household Credit**"
   ]
  },
  {
   "cell_type": "code",
   "execution_count": 266,
   "id": "c48b1964-6a13-4e86-99b1-74a18b523cc3",
   "metadata": {},
   "outputs": [],
   "source": [
    "# Preprocess aggregate household credit data (SNA 2008 Standard).\n",
    "\n",
    "# Load the firm credit data\n",
    "hc2008 = pd.read_csv('./data/raw/macro_household_credit_2008_2023.csv', thousands=',')\n",
    "hc2008.drop(['통계표', '자산/부채', '단위', '변환'], axis=1, inplace=True) # Drop redundant columns; Unit: 1billion won.\n",
    "\n",
    "# Rename categories in 'Account' column.\n",
    "hc2008.loc[hc2008['계정항목']=='합 계', '계정항목'] = 'total'\n",
    "\n",
    "# Rename categories in 'Sector' column.\n",
    "hc2008.loc[hc2008['제도부문코드']=='    가계 및 비영리단체', '제도부문코드'] = 'household'\n",
    "\n",
    "# Rename column names.\n",
    "hc2008.columns = ['sector', 'account'] + list(range(2008, 2024))\n",
    "\n",
    "# Sort values by sector.\n",
    "hc2008.sort_values(by=['sector', 'account'], inplace=True)\n",
    "hc2008.reset_index(drop=True, inplace=True)\n",
    "\n",
    "# Set multi-index.\n",
    "hc2008.set_index(['sector', 'account'], inplace=True)"
   ]
  },
  {
   "cell_type": "code",
   "execution_count": 275,
   "id": "eb1b40bc-b393-4ad2-89c5-91a661f0bb33",
   "metadata": {},
   "outputs": [],
   "source": [
    "# Preprocess aggregate household credit data (SNA 1993 Standard).\n",
    "\n",
    "# Load the household credit data\n",
    "hc1993 = pd.read_csv('./data/raw/macro_household_credit_2002_2013.csv', thousands=',')\n",
    "hc1993.drop(['통계표', '자산/부채', '단위', '변환'], axis=1, inplace=True) # Drop redundant columns; Unit: 1billion won.\n",
    "\n",
    "# Rename categories in 'Account' column.\n",
    "hc1993.loc[hc1993['계정항목']=='합 계', '계정항목'] = 'total'\n",
    "\n",
    "# Rename categories in 'Sector' column.\n",
    "hc1993.loc[hc1993['제도부문코드']=='  가계및비영리단체', '제도부문코드'] = 'household'\n",
    "\n",
    "\n",
    "# Rearrange and rename column names.\n",
    "col = ['제도부문코드', '계정항목', '2002', '2003', '2004', '2005', '2006', '2007', '2008', '2009', '2010', '2011', '2012', '2013']\n",
    "hc1993 = hc1993.loc[:, col]\n",
    "hc1993.columns = ['sector', 'account'] + list(range(2002, 2014))\n",
    "\n",
    "# Sort values by sector.\n",
    "hc1993.sort_values(by=['sector', 'account'], inplace=True)\n",
    "hc1993.reset_index(drop=True, inplace=True)\n",
    "\n",
    "# Set multi-index.\n",
    "hc1993.set_index(['sector', 'account'], inplace=True)"
   ]
  },
  {
   "cell_type": "code",
   "execution_count": 289,
   "id": "575c1f60-f4ec-49b4-9415-1c7892436aae",
   "metadata": {},
   "outputs": [],
   "source": [
    "# Preprocess aggregate household credit data (SNA 1968 Standard).\n",
    "\n",
    "# Load the firm credit data\n",
    "hc19681 = pd.read_csv('./data/raw/macro_household_credit_1975_2005.csv', thousands=',')\n",
    "hc19682 = pd.read_csv('./data/raw/macro_household_credit_1969_1974.csv', thousands=',')\n",
    "hc19681.drop(['통계표', '자산/부채', '단위', '변환'], axis=1, inplace=True) # Drop redundant columns; Unit: 1billion won.\n",
    "hc19682.drop(['통계표', '자산/부채', '단위', '변환'], axis=1, inplace=True) # Drop redundant columns; Unit: 1billion won.\n",
    "\n",
    "# Rename categories in 'Account' column.\n",
    "hc19681.loc[hc19681['계정항목']=='합 계', '계정항목'] = 'total'\n",
    "hc19682.loc[hc19682['계정항목']=='합 계', '계정항목'] = 'total'\n",
    "\n",
    "# Rename categories in 'Sector' column.\n",
    "hc19681.loc[hc19681['제도부문코드']=='  가계및 비영리단체', '제도부문코드'] = 'household'\n",
    "hc19682.loc[hc19682['제도부문코드']=='  가계및비영리단체', '제도부문코드'] = 'household'\n",
    "\n",
    "# Rearrange and rename column names.\n",
    "col1 = ['제도부문코드', '계정항목'] + [str(yr) for yr in range(1975, 2006)]\n",
    "col2 = ['제도부문코드', '계정항목'] + [str(yr) for yr in range(1969, 1975)]\n",
    "\n",
    "hc19681 = hc19681.loc[:, col1]\n",
    "hc19681.columns = ['sector', 'account'] + list(range(1975, 2006))\n",
    "\n",
    "hc19682 = hc19682.loc[:, col2]\n",
    "hc19682.columns = ['sector', 'account'] + list(range(1969, 1975))\n",
    "\n",
    "# Sort values by sector.\n",
    "hc19681.sort_values(by='sector', inplace=True)\n",
    "hc19681.reset_index(drop=True, inplace=True)\n",
    "hc19682.sort_values(by='sector', inplace=True)\n",
    "hc19682.reset_index(drop=True, inplace=True)\n",
    "\n",
    "# Set multi-index.\n",
    "hc19681.set_index(['sector', 'account'], inplace=True)\n",
    "hc19682.set_index(['sector', 'account'], inplace=True)\n",
    "\n",
    "# Concatenate two series.\n",
    "hc1968 = pd.concat([hc19682, hc19681], axis=1)\n",
    "hc1968.reset_index(inplace=True)\n",
    "hc1968.sort_values(by=['sector', 'account'], inplace=True)\n",
    "hc1968.set_index(['sector', 'account'], inplace=True)"
   ]
  },
  {
   "cell_type": "code",
   "execution_count": 291,
   "id": "91136820-a79a-4917-ab48-2e83701fb417",
   "metadata": {},
   "outputs": [],
   "source": [
    "# Concatentate all three panels\n",
    "hc = pd.concat([hc1968.loc[:, :2001], hc1993.loc[:, :2007], hc2008], axis=1)"
   ]
  },
  {
   "cell_type": "code",
   "execution_count": 293,
   "id": "15b5e637-fe89-452a-8364-0537374cfc81",
   "metadata": {},
   "outputs": [],
   "source": [
    "hc.to_csv('./data/processed/agg_household_credit.csv')"
   ]
  },
  {
   "cell_type": "markdown",
   "id": "2cea516a-df34-4ead-8a7e-7140bc04776b",
   "metadata": {},
   "source": [
    "### **Credit by Sector**"
   ]
  },
  {
   "cell_type": "code",
   "execution_count": 340,
   "id": "b2f3ec9e-7543-4838-afb0-3e22566f6379",
   "metadata": {},
   "outputs": [],
   "source": [
    "ind = pd.read_csv('./data/raw/industry_firm_credit.csv', thousands=',')\n",
    "ind.drop(['통계표', '단위', '변환'], axis=1, inplace=True) # Drop redundant columns\n",
    "total = ind.loc[[0, 34], :]\n",
    "ind.drop([0, 34], axis=0, inplace=True) # Drop total value and financial industry\n",
    "\n",
    "col = ind['계정항목'].rename('industry')\n",
    "ind.drop(['계정항목'], axis=1, inplace=True)\n",
    "ind = ind.T\n",
    "ind.columns = col\n",
    "ind.index = pd.date_range('2008-03-31', '2023-12-31', freq='Q')\n",
    "ind = ind.loc['2010':, :].dropna(axis=1)\n",
    "\n",
    "# Divide sectors into 5 groups\n",
    "agr = ind.loc[:, '  농업, 임업 및 어업'] # Agriculture\n",
    "mmi = ind.loc[:, '  광업'] + ind.loc[:, '  제조업'] # Manufacturing and mining\n",
    "cre = ind.loc[:, '  건설업'] + ind.loc[:, '    부동산업'] # Construction and real estate\n",
    "taf = ind.loc[:, '    도매 및 소매업'] + ind.loc[:, '    숙박 및 음식점업'] # Wholesale and retail trade, accomodation, and food services\n",
    "tco = ind.loc[:, '    운수 및 창고업'] + ind.loc[:, '    정보통신업'] # Transport and communication\n",
    "etc = ind.loc[:, ['  전기, 가스, 증기 및 공기조절 공급업',\n",
    "                  '  수도ㆍ하수 및 폐기물 처리, 원료재생업', \n",
    "                  '    전문, 과학 및 기술 서비스업', \n",
    "                  '    사업시설관리, 사업지원 및 임대서비스업', \n",
    "                  '    교육서비스업',\n",
    "                  '    보건 및 사회복지서비스업', \n",
    "                  '    예술, 스포츠 및 여가 관련 서비스업', \n",
    "                  '    공공행정 등 기타서비스']].sum(axis=1) # Other sectors"
   ]
  },
  {
   "cell_type": "code",
   "execution_count": 349,
   "id": "572d674b-9dce-498c-bb81-1fd48223dc1e",
   "metadata": {},
   "outputs": [],
   "source": [
    "ifc = pd.concat([agr.rename('agr'), mmi.rename('mmi'), cre.rename('cre'), taf.rename('taf'), tco.rename('tco'), etc.rename('etc')], axis=1)"
   ]
  },
  {
   "cell_type": "code",
   "execution_count": 350,
   "id": "91fcac6a-c17a-436c-a713-d1194c447aa5",
   "metadata": {},
   "outputs": [],
   "source": [
    "ifc.to_csv('./data/processed/industry_firm_credit.csv')"
   ]
  },
  {
   "cell_type": "code",
   "execution_count": null,
   "id": "adecdc17-1eeb-4fdb-ae8b-cafecfba1573",
   "metadata": {},
   "outputs": [],
   "source": []
  }
 ],
 "metadata": {
  "kernelspec": {
   "display_name": "Python 3 (ipykernel)",
   "language": "python",
   "name": "python3"
  },
  "language_info": {
   "codemirror_mode": {
    "name": "ipython",
    "version": 3
   },
   "file_extension": ".py",
   "mimetype": "text/x-python",
   "name": "python",
   "nbconvert_exporter": "python",
   "pygments_lexer": "ipython3",
   "version": "3.11.7"
  }
 },
 "nbformat": 4,
 "nbformat_minor": 5
}
