{
 "cells": [
  {
   "cell_type": "code",
   "execution_count": 186,
   "id": "342e44d9-def4-42ba-ae56-dc481d478254",
   "metadata": {},
   "outputs": [],
   "source": [
    "import numpy as np\n",
    "import pandas as pd"
   ]
  },
  {
   "cell_type": "markdown",
   "id": "0f0dc8cc-cc57-45e8-93e0-6a76bd5905bd",
   "metadata": {},
   "source": [
    "### **Aggregate Firm Credit Data**"
   ]
  },
  {
   "cell_type": "code",
   "execution_count": 187,
   "id": "db113802-bfcc-40d7-bae5-70516412f61f",
   "metadata": {},
   "outputs": [],
   "source": [
    "# Preprocess aggregate firm credit data (SNA 2008 Standard).\n",
    "\n",
    "# Load the firm credit data\n",
    "fc2008 = pd.read_csv('./data/raw/macro_firm_credit_2008_2023.csv', thousands=',')\n",
    "fc2008.drop(['통계표', '자산/부채', '단위', '변환'], axis=1, inplace=True) # Drop redundant columns; Unit: 1billion won.\n",
    "\n",
    "# Rename categories in 'Account' column.\n",
    "fc2008.loc[fc2008['계정항목']=='  4. 채권', '계정항목'] = 'bonds'\n",
    "fc2008.loc[fc2008['계정항목']=='  5. 대출금', '계정항목'] = 'loans'\n",
    "fc2008.loc[fc2008['계정항목']=='  6. 정부융자', '계정항목'] = 'govloans'\n",
    "\n",
    "# Rename categories in 'Sector' column.\n",
    "fc2008.loc[fc2008['제도부문코드']=='    비금융법인', '제도부문코드'] = 'nonfin'\n",
    "fc2008.loc[fc2008['제도부문코드']=='      공기업', '제도부문코드'] = 'public'\n",
    "fc2008.loc[fc2008['제도부문코드']=='      민간기업', '제도부문코드'] = 'private'\n",
    "\n",
    "# Rename column names.\n",
    "fc2008.columns = ['sector', 'account'] + list(range(2008, 2024))\n",
    "\n",
    "# Sort values by sector.\n",
    "fc2008.sort_values(by=['sector', 'account'], inplace=True)\n",
    "fc2008.reset_index(drop=True, inplace=True)\n",
    "\n",
    "# Set multi-index.\n",
    "fc2008.set_index(['sector', 'account'], inplace=True)"
   ]
  },
  {
   "cell_type": "code",
   "execution_count": 188,
   "id": "fa8c3d2b-085b-4983-8205-adc55bf11357",
   "metadata": {},
   "outputs": [],
   "source": [
    "# Preprocess aggregate firm credit data (SNA 1993 Standard).\n",
    "\n",
    "# Load the firm credit data\n",
    "fc1993 = pd.read_csv('./data/raw/macro_firm_credit_2002_2013.csv', thousands=',')\n",
    "fc1993.drop(['통계표', '자산/부채', '단위', '변환'], axis=1, inplace=True) # Drop redundant columns; Unit: 1billion won.\n",
    "\n",
    "# Rename categories in 'Account' column.\n",
    "fc1993.loc[fc1993['계정항목']=='  4. 채권', '계정항목'] = 'bonds'\n",
    "fc1993.loc[fc1993['계정항목']=='  5. 대출금', '계정항목'] = 'loans'\n",
    "fc1993.loc[fc1993['계정항목']=='  6. 정부융자', '계정항목'] = 'govloans'\n",
    "\n",
    "# Rename categories in 'Sector' column.\n",
    "fc1993.loc[fc1993['제도부문코드']=='  비금융법인', '제도부문코드'] = 'nonfin'\n",
    "fc1993.loc[fc1993['제도부문코드']=='    공기업', '제도부문코드'] = 'public'\n",
    "fc1993.loc[fc1993['제도부문코드']=='    민간기업', '제도부문코드'] = 'private'\n",
    "\n",
    "# Rearrange and rename column names.\n",
    "col = ['제도부문코드', '계정항목', '2002', '2003', '2004', '2005', '2006', '2007', '2008', '2009', '2010', '2011', '2012', '2013']\n",
    "fc1993 = fc1993.loc[:, col]\n",
    "fc1993.columns = ['sector', 'account'] + list(range(2002, 2014))\n",
    "\n",
    "# Sort values by sector.\n",
    "fc1993.sort_values(by=['sector', 'account'], inplace=True)\n",
    "fc1993.reset_index(drop=True, inplace=True)\n",
    "\n",
    "# Set multi-index.\n",
    "fc1993.set_index(['sector', 'account'], inplace=True)"
   ]
  },
  {
   "cell_type": "code",
   "execution_count": 189,
   "id": "8c233736-29e1-4306-83bb-5764d5cd19c9",
   "metadata": {},
   "outputs": [],
   "source": [
    "# Preprocess aggregate firm credit data (SNA 1968 Standard).\n",
    "\n",
    "# Load the firm credit data\n",
    "fc19681 = pd.read_csv('./data/raw/macro_firm_credit_1975_2005.csv', thousands=',')\n",
    "fc19682 = pd.read_csv('./data/raw/macro_firm_credit_1969_1974.csv', thousands=',')\n",
    "fc19681.drop(['통계표', '자산/부채', '단위', '변환'], axis=1, inplace=True) # Drop redundant columns; Unit: 1billion won.\n",
    "fc19682.drop(['통계표', '자산/부채', '단위', '변환'], axis=1, inplace=True) # Drop redundant columns; Unit: 1billion won.\n",
    "\n",
    "# Rename categories in 'Account' column.\n",
    "fc19681.loc[fc19681['계정항목']=='  5. 단기채권', '계정항목'] = 'sbonds'\n",
    "fc19681.loc[fc19681['계정항목']=='  6. 장기채권', '계정항목'] = 'lbonds'\n",
    "fc19681.loc[fc19681['계정항목']=='  8. 대출금', '계정항목'] = 'loans'\n",
    "fc19681.loc[fc19681['계정항목']=='  9. 정부융자', '계정항목'] = 'govloans'\n",
    "\n",
    "fc19682.loc[fc19682['계정항목']=='  5. 단기채권', '계정항목'] = 'sbonds'\n",
    "fc19682.loc[fc19682['계정항목']=='  6. 장기채권', '계정항목'] = 'lbonds'\n",
    "fc19682.loc[fc19682['계정항목']=='  8. 대출금', '계정항목'] = 'loans'\n",
    "fc19682.loc[fc19682['계정항목']=='  9. 정부융자', '계정항목'] = 'govloans'\n",
    "\n",
    "# Rename categories in 'Sector' column.\n",
    "fc19681.loc[fc19681['제도부문코드']=='  기업부문', '제도부문코드'] = 'nonfin'\n",
    "fc19681.loc[fc19681['제도부문코드']=='    공기업', '제도부문코드'] = 'public'\n",
    "fc19681.loc[fc19681['제도부문코드']=='    민간기업', '제도부문코드'] = 'private'\n",
    "\n",
    "fc19682.loc[fc19682['제도부문코드']=='  기업부문', '제도부문코드'] = 'nonfin'\n",
    "fc19682.loc[fc19682['제도부문코드']=='    공기업', '제도부문코드'] = 'public'\n",
    "fc19682.loc[fc19682['제도부문코드']=='    민간기업', '제도부문코드'] = 'private'\n",
    "\n",
    "# Rearrange and rename column names.\n",
    "col1 = ['제도부문코드', '계정항목'] + [str(yr) for yr in range(1975, 2006)]\n",
    "col2 = ['제도부문코드', '계정항목'] + [str(yr) for yr in range(1969, 1975)]\n",
    "\n",
    "fc19681 = fc19681.loc[:, col1]\n",
    "fc19681.columns = ['sector', 'account'] + list(range(1975, 2006))\n",
    "\n",
    "fc19682 = fc19682.loc[:, col2]\n",
    "fc19682.columns = ['sector', 'account'] + list(range(1969, 1975))\n",
    "\n",
    "# Sort values by sector.\n",
    "fc19681.sort_values(by='sector', inplace=True)\n",
    "fc19681.reset_index(drop=True, inplace=True)\n",
    "fc19682.sort_values(by='sector', inplace=True)\n",
    "fc19682.reset_index(drop=True, inplace=True)\n",
    "\n",
    "# Set multi-index.\n",
    "fc19681.set_index(['sector', 'account'], inplace=True)\n",
    "fc19682.set_index(['sector', 'account'], inplace=True)\n",
    "\n",
    "# Compute bonds data.\n",
    "mi = pd.MultiIndex.from_arrays([['nonfin', 'private', 'public'], ['bonds', 'bonds', 'bonds']], names=['sector', 'account'])\n",
    "\n",
    "b1 = fc19681.loc[(slice(None), 'sbonds'), :].values + fc19681.loc[(slice(None), 'lbonds'), :].values\n",
    "bonds1 = pd.DataFrame(b1, index=mi, columns=fc19681.columns)\n",
    "fc19681 = pd.concat([fc19681.loc[(slice(None), ['loans', 'govloans']), :], bonds1], axis=0)\n",
    "\n",
    "b2 = fc19682.loc[(slice(None), 'sbonds'), :].values + fc19682.loc[(slice(None), 'lbonds'), :].values\n",
    "bonds2 = pd.DataFrame(b2, index=mi, columns=fc19682.columns)\n",
    "fc19682 = pd.concat([fc19682.loc[(slice(None), ['loans', 'govloans']), :], bonds2], axis=0)\n",
    "\n",
    "# Concatenate two panels.\n",
    "fc1968 = pd.concat([fc19682, fc19681], axis=1)\n",
    "fc1968.reset_index(inplace=True)\n",
    "fc1968.sort_values(by=['sector', 'account'], inplace=True)\n",
    "fc1968.set_index(['sector', 'account'], inplace=True)"
   ]
  },
  {
   "cell_type": "code",
   "execution_count": 190,
   "id": "735fbef2-6695-424d-aafc-7d7e4cce90de",
   "metadata": {},
   "outputs": [],
   "source": [
    "# Concatentate all three panels\n",
    "fc = pd.concat([fc1968.loc[:, :2001], fc1993.loc[:, :2007], fc2008], axis=1)"
   ]
  },
  {
   "cell_type": "code",
   "execution_count": 191,
   "id": "c1360ee6-2a02-42d0-9e98-81b250a4a65f",
   "metadata": {},
   "outputs": [],
   "source": [
    "fc.to_csv('./data/processed/agg_firm_credit.csv')"
   ]
  }
 ],
 "metadata": {
  "kernelspec": {
   "display_name": "Python 3 (ipykernel)",
   "language": "python",
   "name": "python3"
  },
  "language_info": {
   "codemirror_mode": {
    "name": "ipython",
    "version": 3
   },
   "file_extension": ".py",
   "mimetype": "text/x-python",
   "name": "python",
   "nbconvert_exporter": "python",
   "pygments_lexer": "ipython3",
   "version": "3.11.7"
  }
 },
 "nbformat": 4,
 "nbformat_minor": 5
}
